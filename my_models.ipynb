{
 "cells": [
  {
   "cell_type": "code",
   "execution_count": 1,
   "id": "4ac75e50-0837-475e-bb2b-227455fac2ba",
   "metadata": {},
   "outputs": [],
   "source": [
    "class person():\n",
    "    man = \"man\"\n",
    "    women = \"women\"\n",
    "    child = \"child\""
   ]
  }
 ],
 "metadata": {
  "kernelspec": {
   "display_name": "Python 3 (ipykernel)",
   "language": "python",
   "name": "python3"
  },
  "language_info": {
   "codemirror_mode": {
    "name": "ipython",
    "version": 3
   },
   "file_extension": ".py",
   "mimetype": "text/x-python",
   "name": "python",
   "nbconvert_exporter": "python",
   "pygments_lexer": "ipython3",
   "version": "3.8.13"
  }
 },
 "nbformat": 4,
 "nbformat_minor": 5
}
